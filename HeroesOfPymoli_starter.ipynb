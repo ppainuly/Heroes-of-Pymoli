{
 "cells": [
  {
   "cell_type": "markdown",
   "metadata": {},
   "source": [
    "### Heroes Of Pymoli Data Analysis\n",
    "* Of the 1163 active players, the vast majority are male (84%). There also exists, a smaller, but notable proportion of female players (14%).\n",
    "\n",
    "* Our peak age demographic falls between 20-24 (44.8%) with secondary groups falling between 15-19 (18.60%) and 25-29 (13.4%).  \n",
    "-----"
   ]
  },
  {
   "cell_type": "markdown",
   "metadata": {},
   "source": [
    "### Note\n",
    "* Instructions have been included for each segment. You do not have to follow them exactly, but they are included to help you think through the steps."
   ]
  },
  {
   "cell_type": "code",
   "execution_count": 6,
   "metadata": {},
   "outputs": [],
   "source": [
    "# Dependencies and Setup\n",
    "import pandas as pd\n",
    "import numpy as np\n",
    "\n",
    "# File to Load (Remember to Change These)\n",
    "file_to_load = \"Resources/purchase_data.csv\"\n",
    "\n",
    "# Read Purchasing File and store into Pandas data frame\n",
    "purchase_data = pd.read_csv(file_to_load)"
   ]
  },
  {
   "cell_type": "markdown",
   "metadata": {},
   "source": [
    "## Player Count"
   ]
  },
  {
   "cell_type": "markdown",
   "metadata": {},
   "source": [
    "* Display the total number of players\n"
   ]
  },
  {
   "cell_type": "code",
   "execution_count": 7,
   "metadata": {},
   "outputs": [
    {
     "data": {
      "text/plain": [
       "576"
      ]
     },
     "execution_count": 7,
     "metadata": {},
     "output_type": "execute_result"
    }
   ],
   "source": [
    "tp = purchase_data.nunique()['SN']\n",
    "tp\n"
   ]
  },
  {
   "cell_type": "markdown",
   "metadata": {},
   "source": [
    "## Purchasing Analysis (Total)"
   ]
  },
  {
   "cell_type": "markdown",
   "metadata": {},
   "source": [
    "* Run basic calculations to obtain number of unique items, average price, etc.\n",
    "\n",
    "\n",
    "* Create a summary data frame to hold the results\n",
    "\n",
    "\n",
    "* Optional: give the displayed data cleaner formatting\n",
    "\n",
    "\n",
    "* Display the summary data frame\n"
   ]
  },
  {
   "cell_type": "code",
   "execution_count": 25,
   "metadata": {
    "scrolled": true
   },
   "outputs": [
    {
     "data": {
      "text/html": [
       "<style  type=\"text/css\" >\n",
       "</style><table id=\"T_baf04e40_a84b_11e9_a57b_48d705e7a873\" ><thead>    <tr>        <th class=\"blank level0\" ></th>        <th class=\"col_heading level0 col0\" >Number of Unique Items</th>        <th class=\"col_heading level0 col1\" >Average Price</th>        <th class=\"col_heading level0 col2\" >Number of Purchases</th>        <th class=\"col_heading level0 col3\" >Total Revenue</th>    </tr></thead><tbody>\n",
       "                <tr>\n",
       "                        <th id=\"T_baf04e40_a84b_11e9_a57b_48d705e7a873level0_row0\" class=\"row_heading level0 row0\" >0</th>\n",
       "                        <td id=\"T_baf04e40_a84b_11e9_a57b_48d705e7a873row0_col0\" class=\"data row0 col0\" >183</td>\n",
       "                        <td id=\"T_baf04e40_a84b_11e9_a57b_48d705e7a873row0_col1\" class=\"data row0 col1\" >$3.05</td>\n",
       "                        <td id=\"T_baf04e40_a84b_11e9_a57b_48d705e7a873row0_col2\" class=\"data row0 col2\" >780</td>\n",
       "                        <td id=\"T_baf04e40_a84b_11e9_a57b_48d705e7a873row0_col3\" class=\"data row0 col3\" >$2379.77</td>\n",
       "            </tr>\n",
       "    </tbody></table>"
      ],
      "text/plain": [
       "<pandas.io.formats.style.Styler at 0x11cfaa208>"
      ]
     },
     "execution_count": 25,
     "metadata": {},
     "output_type": "execute_result"
    }
   ],
   "source": [
    "item_val = purchase_data[\"Item ID\"]\n",
    "items = len(item_val.unique())\n",
    "\n",
    "price_ave = round((purchase_data[\"Price\"]).mean(),2)\n",
    "\n",
    "\n",
    "purchase_total = (purchase_data[\"Purchase ID\"]).count()\n",
    "total_rev = (purchase_data[\"Price\"]).sum()\n",
    "\n",
    "\n",
    "purchasing_analysis = pd.DataFrame({\"Number of Unique Items\":[items],\n",
    "                           \"Average Price\": [price_ave], \n",
    "                           \"Number of Purchases\": [purchase_total], \n",
    "                           \"Total Revenue\": [total_rev]})\n",
    "\n",
    "purchasing_analysis.style.format({'Average Price':\"${:}\",\n",
    "                         'Total Revenue': '${:}'})\n"
   ]
  },
  {
   "cell_type": "markdown",
   "metadata": {},
   "source": [
    "## Gender Demographics"
   ]
  },
  {
   "cell_type": "markdown",
   "metadata": {},
   "source": [
    "* Percentage and Count of Male Players\n",
    "\n",
    "\n",
    "* Percentage and Count of Female Players\n",
    "\n",
    "\n",
    "* Percentage and Count of Other / Non-Disclosed\n",
    "\n",
    "\n"
   ]
  },
  {
   "cell_type": "code",
   "execution_count": 28,
   "metadata": {},
   "outputs": [
    {
     "data": {
      "text/html": [
       "<style  type=\"text/css\" >\n",
       "</style><table id=\"T_0cec3ed8_a84d_11e9_a57b_48d705e7a873\" ><thead>    <tr>        <th class=\"blank level0\" ></th>        <th class=\"col_heading level0 col0\" >Percentage of Players</th>        <th class=\"col_heading level0 col1\" >Total Count</th>    </tr>    <tr>        <th class=\"index_name level0\" >Gender</th>        <th class=\"blank\" ></th>        <th class=\"blank\" ></th>    </tr></thead><tbody>\n",
       "                <tr>\n",
       "                        <th id=\"T_0cec3ed8_a84d_11e9_a57b_48d705e7a873level0_row0\" class=\"row_heading level0 row0\" >Male</th>\n",
       "                        <td id=\"T_0cec3ed8_a84d_11e9_a57b_48d705e7a873row0_col0\" class=\"data row0 col0\" >84.03</td>\n",
       "                        <td id=\"T_0cec3ed8_a84d_11e9_a57b_48d705e7a873row0_col1\" class=\"data row0 col1\" >484</td>\n",
       "            </tr>\n",
       "            <tr>\n",
       "                        <th id=\"T_0cec3ed8_a84d_11e9_a57b_48d705e7a873level0_row1\" class=\"row_heading level0 row1\" >Female</th>\n",
       "                        <td id=\"T_0cec3ed8_a84d_11e9_a57b_48d705e7a873row1_col0\" class=\"data row1 col0\" >14.06</td>\n",
       "                        <td id=\"T_0cec3ed8_a84d_11e9_a57b_48d705e7a873row1_col1\" class=\"data row1 col1\" >81</td>\n",
       "            </tr>\n",
       "            <tr>\n",
       "                        <th id=\"T_0cec3ed8_a84d_11e9_a57b_48d705e7a873level0_row2\" class=\"row_heading level0 row2\" >Other / Non-Disclosed</th>\n",
       "                        <td id=\"T_0cec3ed8_a84d_11e9_a57b_48d705e7a873row2_col0\" class=\"data row2 col0\" >1.91</td>\n",
       "                        <td id=\"T_0cec3ed8_a84d_11e9_a57b_48d705e7a873row2_col1\" class=\"data row2 col1\" >11</td>\n",
       "            </tr>\n",
       "    </tbody></table>"
      ],
      "text/plain": [
       "<pandas.io.formats.style.Styler at 0x11cfdadd8>"
      ]
     },
     "execution_count": 28,
     "metadata": {},
     "output_type": "execute_result"
    }
   ],
   "source": [
    "#Percentage and Count of Male/Female Players\n",
    "gender_data = purchase_data.groupby(\"Gender\")\n",
    "\n",
    "gender_data_count = gender_data.nunique()[\"SN\"]\n",
    "\n",
    "#Percentage and Count of Other / Non-Disclosed\n",
    "player_data_percent = gender_data_count / tp * 100\n",
    "\n",
    "gender_df = pd.DataFrame({\"Percentage of Players\": player_data_percent, \"Total Count\": gender_data_count})\n",
    "\n",
    "gender_df = gender_df.sort_values([\"Total Count\"], ascending = False)\n",
    "gender_df.style.format({\"Percentage of Players\":\"{:.2f}\"})\n"
   ]
  },
  {
   "cell_type": "markdown",
   "metadata": {},
   "source": [
    "\n",
    "## Purchasing Analysis (Gender)"
   ]
  },
  {
   "cell_type": "markdown",
   "metadata": {},
   "source": [
    "* Run basic calculations to obtain purchase count, avg. purchase price, avg. purchase total per person etc. by gender\n",
    "\n",
    "\n",
    "\n",
    "\n",
    "* Create a summary data frame to hold the results\n",
    "\n",
    "\n",
    "* Optional: give the displayed data cleaner formatting\n",
    "\n",
    "\n",
    "* Display the summary data frame"
   ]
  },
  {
   "cell_type": "code",
   "execution_count": 32,
   "metadata": {},
   "outputs": [
    {
     "data": {
      "text/html": [
       "<style  type=\"text/css\" >\n",
       "</style><table id=\"T_d5f032e4_a84d_11e9_a57b_48d705e7a873\" ><thead>    <tr>        <th class=\"blank level0\" ></th>        <th class=\"col_heading level0 col0\" >Purchase Count</th>        <th class=\"col_heading level0 col1\" >Average Purchase Price</th>        <th class=\"col_heading level0 col2\" >Average Purchase Value</th>        <th class=\"col_heading level0 col3\" >Avg Purchase Total per Person</th>    </tr>    <tr>        <th class=\"index_name level0\" >Gender</th>        <th class=\"blank\" ></th>        <th class=\"blank\" ></th>        <th class=\"blank\" ></th>        <th class=\"blank\" ></th>    </tr></thead><tbody>\n",
       "                <tr>\n",
       "                        <th id=\"T_d5f032e4_a84d_11e9_a57b_48d705e7a873level0_row0\" class=\"row_heading level0 row0\" >Female</th>\n",
       "                        <td id=\"T_d5f032e4_a84d_11e9_a57b_48d705e7a873row0_col0\" class=\"data row0 col0\" >113</td>\n",
       "                        <td id=\"T_d5f032e4_a84d_11e9_a57b_48d705e7a873row0_col1\" class=\"data row0 col1\" >$3.20</td>\n",
       "                        <td id=\"T_d5f032e4_a84d_11e9_a57b_48d705e7a873row0_col2\" class=\"data row0 col2\" >$361.94</td>\n",
       "                        <td id=\"T_d5f032e4_a84d_11e9_a57b_48d705e7a873row0_col3\" class=\"data row0 col3\" >$4.47</td>\n",
       "            </tr>\n",
       "            <tr>\n",
       "                        <th id=\"T_d5f032e4_a84d_11e9_a57b_48d705e7a873level0_row1\" class=\"row_heading level0 row1\" >Male</th>\n",
       "                        <td id=\"T_d5f032e4_a84d_11e9_a57b_48d705e7a873row1_col0\" class=\"data row1 col0\" >652</td>\n",
       "                        <td id=\"T_d5f032e4_a84d_11e9_a57b_48d705e7a873row1_col1\" class=\"data row1 col1\" >$3.02</td>\n",
       "                        <td id=\"T_d5f032e4_a84d_11e9_a57b_48d705e7a873row1_col2\" class=\"data row1 col2\" >$1,967.64</td>\n",
       "                        <td id=\"T_d5f032e4_a84d_11e9_a57b_48d705e7a873row1_col3\" class=\"data row1 col3\" >$4.07</td>\n",
       "            </tr>\n",
       "            <tr>\n",
       "                        <th id=\"T_d5f032e4_a84d_11e9_a57b_48d705e7a873level0_row2\" class=\"row_heading level0 row2\" >Other / Non-Disclosed</th>\n",
       "                        <td id=\"T_d5f032e4_a84d_11e9_a57b_48d705e7a873row2_col0\" class=\"data row2 col0\" >15</td>\n",
       "                        <td id=\"T_d5f032e4_a84d_11e9_a57b_48d705e7a873row2_col1\" class=\"data row2 col1\" >$3.35</td>\n",
       "                        <td id=\"T_d5f032e4_a84d_11e9_a57b_48d705e7a873row2_col2\" class=\"data row2 col2\" >$50.19</td>\n",
       "                        <td id=\"T_d5f032e4_a84d_11e9_a57b_48d705e7a873row2_col3\" class=\"data row2 col3\" >$4.56</td>\n",
       "            </tr>\n",
       "    </tbody></table>"
      ],
      "text/plain": [
       "<pandas.io.formats.style.Styler at 0x11cfda710>"
      ]
     },
     "execution_count": 32,
     "metadata": {},
     "output_type": "execute_result"
    }
   ],
   "source": [
    "#Run basic calculations to obtain purchase count, avg. purchase price, avg. purchase total per person etc. by gender\n",
    "purchase_ct = purchase_data.groupby(\"Gender\")[\"Purchase ID\"].count()\n",
    "\n",
    "price_ave = purchase_data.groupby(\"Gender\")[\"Price\"].mean()\n",
    "\n",
    "purchase_ave_price = purchase_data.groupby(\"Gender\")[\"Price\"].sum()\n",
    "\n",
    "ave_purchase_person = purchase_ave_price/gender_data_count\n",
    "\n",
    "# Display Dataframe\n",
    "gender_df = pd.DataFrame({\"Purchase Count\": purchase_ct, \n",
    "                                    \"Average Purchase Price\": price_ave,\n",
    "                                    \"Average Purchase Value\":purchase_ave_price,\n",
    "                                    \"Avg Purchase Total per Person\": ave_purchase_person})\n",
    "\n",
    "\n",
    "\n",
    "gender_df.style.format({\"Average Purchase Value\":\"${:,.2f}\",\n",
    "                                  \"Average Purchase Price\":\"${:,.2f}\",\n",
    "                                  \"Avg Purchase Total per Person\":\"${:,.2f}\"})"
   ]
  },
  {
   "cell_type": "markdown",
   "metadata": {},
   "source": [
    "## Age Demographics"
   ]
  },
  {
   "cell_type": "markdown",
   "metadata": {},
   "source": [
    "* Establish bins for ages\n",
    "\n",
    "\n",
    "* Categorize the existing players using the age bins. Hint: use pd.cut()\n",
    "\n",
    "\n",
    "* Calculate the numbers and percentages by age group\n",
    "\n",
    "\n",
    "* Create a summary data frame to hold the results\n",
    "\n",
    "\n",
    "* Optional: round the percentage column to two decimal points\n",
    "\n",
    "\n",
    "* Display Age Demographics Table\n"
   ]
  },
  {
   "cell_type": "code",
   "execution_count": 52,
   "metadata": {},
   "outputs": [
    {
     "data": {
      "text/html": [
       "<style  type=\"text/css\" >\n",
       "</style><table id=\"T_dbec8366_a850_11e9_a57b_48d705e7a873\" ><thead>    <tr>        <th class=\"blank level0\" ></th>        <th class=\"col_heading level0 col0\" >Percentage of Players</th>        <th class=\"col_heading level0 col1\" >Total Count</th>    </tr>    <tr>        <th class=\"index_name level0\" >Age Group</th>        <th class=\"blank\" ></th>        <th class=\"blank\" ></th>    </tr></thead><tbody>\n",
       "                <tr>\n",
       "                        <th id=\"T_dbec8366_a850_11e9_a57b_48d705e7a873level0_row0\" class=\"row_heading level0 row0\" ><10</th>\n",
       "                        <td id=\"T_dbec8366_a850_11e9_a57b_48d705e7a873row0_col0\" class=\"data row0 col0\" >2.95</td>\n",
       "                        <td id=\"T_dbec8366_a850_11e9_a57b_48d705e7a873row0_col1\" class=\"data row0 col1\" >17</td>\n",
       "            </tr>\n",
       "            <tr>\n",
       "                        <th id=\"T_dbec8366_a850_11e9_a57b_48d705e7a873level0_row1\" class=\"row_heading level0 row1\" >10-14</th>\n",
       "                        <td id=\"T_dbec8366_a850_11e9_a57b_48d705e7a873row1_col0\" class=\"data row1 col0\" >3.82</td>\n",
       "                        <td id=\"T_dbec8366_a850_11e9_a57b_48d705e7a873row1_col1\" class=\"data row1 col1\" >22</td>\n",
       "            </tr>\n",
       "            <tr>\n",
       "                        <th id=\"T_dbec8366_a850_11e9_a57b_48d705e7a873level0_row2\" class=\"row_heading level0 row2\" >15-19</th>\n",
       "                        <td id=\"T_dbec8366_a850_11e9_a57b_48d705e7a873row2_col0\" class=\"data row2 col0\" >18.58</td>\n",
       "                        <td id=\"T_dbec8366_a850_11e9_a57b_48d705e7a873row2_col1\" class=\"data row2 col1\" >107</td>\n",
       "            </tr>\n",
       "            <tr>\n",
       "                        <th id=\"T_dbec8366_a850_11e9_a57b_48d705e7a873level0_row3\" class=\"row_heading level0 row3\" >20-24</th>\n",
       "                        <td id=\"T_dbec8366_a850_11e9_a57b_48d705e7a873row3_col0\" class=\"data row3 col0\" >44.79</td>\n",
       "                        <td id=\"T_dbec8366_a850_11e9_a57b_48d705e7a873row3_col1\" class=\"data row3 col1\" >258</td>\n",
       "            </tr>\n",
       "            <tr>\n",
       "                        <th id=\"T_dbec8366_a850_11e9_a57b_48d705e7a873level0_row4\" class=\"row_heading level0 row4\" >25-29</th>\n",
       "                        <td id=\"T_dbec8366_a850_11e9_a57b_48d705e7a873row4_col0\" class=\"data row4 col0\" >13.37</td>\n",
       "                        <td id=\"T_dbec8366_a850_11e9_a57b_48d705e7a873row4_col1\" class=\"data row4 col1\" >77</td>\n",
       "            </tr>\n",
       "            <tr>\n",
       "                        <th id=\"T_dbec8366_a850_11e9_a57b_48d705e7a873level0_row5\" class=\"row_heading level0 row5\" >30-34</th>\n",
       "                        <td id=\"T_dbec8366_a850_11e9_a57b_48d705e7a873row5_col0\" class=\"data row5 col0\" >9.03</td>\n",
       "                        <td id=\"T_dbec8366_a850_11e9_a57b_48d705e7a873row5_col1\" class=\"data row5 col1\" >52</td>\n",
       "            </tr>\n",
       "            <tr>\n",
       "                        <th id=\"T_dbec8366_a850_11e9_a57b_48d705e7a873level0_row6\" class=\"row_heading level0 row6\" >35-39</th>\n",
       "                        <td id=\"T_dbec8366_a850_11e9_a57b_48d705e7a873row6_col0\" class=\"data row6 col0\" >5.38</td>\n",
       "                        <td id=\"T_dbec8366_a850_11e9_a57b_48d705e7a873row6_col1\" class=\"data row6 col1\" >31</td>\n",
       "            </tr>\n",
       "            <tr>\n",
       "                        <th id=\"T_dbec8366_a850_11e9_a57b_48d705e7a873level0_row7\" class=\"row_heading level0 row7\" >40+</th>\n",
       "                        <td id=\"T_dbec8366_a850_11e9_a57b_48d705e7a873row7_col0\" class=\"data row7 col0\" >2.08</td>\n",
       "                        <td id=\"T_dbec8366_a850_11e9_a57b_48d705e7a873row7_col1\" class=\"data row7 col1\" >12</td>\n",
       "            </tr>\n",
       "    </tbody></table>"
      ],
      "text/plain": [
       "<pandas.io.formats.style.Styler at 0x11d0b0080>"
      ]
     },
     "execution_count": 52,
     "metadata": {},
     "output_type": "execute_result"
    }
   ],
   "source": [
    "labels = [\"<10\", \"10-14\", \"15-19\", \"20-24\", \"25-29\", \"30-34\", \"35-39\", \"40+\"]\n",
    "bins = [0, 9, 14, 19, 24, 29, 34, 39, 100]\n",
    "\n",
    "purchase_data[\"Age Group\"] = pd.cut(purchase_data[\"Age\"],bins, labels=labels)\n",
    "purchase_data\n",
    "\n",
    "age_group = purchase_data.groupby(\"Age Group\")\n",
    "\n",
    "total_age = age_group[\"SN\"].nunique()\n",
    "\n",
    "total_by_age = (total_age/tp) * 100\n",
    "\n",
    "age_df = pd.DataFrame({\"Percentage of Players\": total_by_age, \n",
    "                       \"Total Count\": total_age})\n",
    "\n",
    "\n",
    "age_df.style.format({\"Percentage of Players\":\"{:,.2f}\"})"
   ]
  },
  {
   "cell_type": "markdown",
   "metadata": {},
   "source": [
    "## Purchasing Analysis (Age)"
   ]
  },
  {
   "cell_type": "markdown",
   "metadata": {},
   "source": [
    "* Bin the purchase_data data frame by age\n",
    "\n",
    "\n",
    "* Run basic calculations to obtain purchase count, avg. purchase price, avg. purchase total per person etc. in the table below\n",
    "\n",
    "\n",
    "* Create a summary data frame to hold the results\n",
    "\n",
    "\n",
    "* Optional: give the displayed data cleaner formatting\n",
    "\n",
    "\n",
    "* Display the summary data frame"
   ]
  },
  {
   "cell_type": "code",
   "execution_count": 50,
   "metadata": {},
   "outputs": [
    {
     "data": {
      "text/html": [
       "<style  type=\"text/css\" >\n",
       "</style><table id=\"T_cc824ff0_a850_11e9_a57b_48d705e7a873\" ><thead>    <tr>        <th class=\"blank level0\" ></th>        <th class=\"col_heading level0 col0\" >Purchase Count</th>        <th class=\"col_heading level0 col1\" >Average Purchase Price</th>        <th class=\"col_heading level0 col2\" >Total Purchase Value</th>        <th class=\"col_heading level0 col3\" >Average Purchase Total per Person</th>    </tr>    <tr>        <th class=\"index_name level0\" >Age Group</th>        <th class=\"blank\" ></th>        <th class=\"blank\" ></th>        <th class=\"blank\" ></th>        <th class=\"blank\" ></th>    </tr></thead><tbody>\n",
       "                <tr>\n",
       "                        <th id=\"T_cc824ff0_a850_11e9_a57b_48d705e7a873level0_row0\" class=\"row_heading level0 row0\" ><10</th>\n",
       "                        <td id=\"T_cc824ff0_a850_11e9_a57b_48d705e7a873row0_col0\" class=\"data row0 col0\" >23</td>\n",
       "                        <td id=\"T_cc824ff0_a850_11e9_a57b_48d705e7a873row0_col1\" class=\"data row0 col1\" >$3.35</td>\n",
       "                        <td id=\"T_cc824ff0_a850_11e9_a57b_48d705e7a873row0_col2\" class=\"data row0 col2\" >$77.13</td>\n",
       "                        <td id=\"T_cc824ff0_a850_11e9_a57b_48d705e7a873row0_col3\" class=\"data row0 col3\" >$4.54</td>\n",
       "            </tr>\n",
       "            <tr>\n",
       "                        <th id=\"T_cc824ff0_a850_11e9_a57b_48d705e7a873level0_row1\" class=\"row_heading level0 row1\" >10-14</th>\n",
       "                        <td id=\"T_cc824ff0_a850_11e9_a57b_48d705e7a873row1_col0\" class=\"data row1 col0\" >28</td>\n",
       "                        <td id=\"T_cc824ff0_a850_11e9_a57b_48d705e7a873row1_col1\" class=\"data row1 col1\" >$2.96</td>\n",
       "                        <td id=\"T_cc824ff0_a850_11e9_a57b_48d705e7a873row1_col2\" class=\"data row1 col2\" >$82.78</td>\n",
       "                        <td id=\"T_cc824ff0_a850_11e9_a57b_48d705e7a873row1_col3\" class=\"data row1 col3\" >$3.76</td>\n",
       "            </tr>\n",
       "            <tr>\n",
       "                        <th id=\"T_cc824ff0_a850_11e9_a57b_48d705e7a873level0_row2\" class=\"row_heading level0 row2\" >15-19</th>\n",
       "                        <td id=\"T_cc824ff0_a850_11e9_a57b_48d705e7a873row2_col0\" class=\"data row2 col0\" >136</td>\n",
       "                        <td id=\"T_cc824ff0_a850_11e9_a57b_48d705e7a873row2_col1\" class=\"data row2 col1\" >$3.04</td>\n",
       "                        <td id=\"T_cc824ff0_a850_11e9_a57b_48d705e7a873row2_col2\" class=\"data row2 col2\" >$412.89</td>\n",
       "                        <td id=\"T_cc824ff0_a850_11e9_a57b_48d705e7a873row2_col3\" class=\"data row2 col3\" >$3.86</td>\n",
       "            </tr>\n",
       "            <tr>\n",
       "                        <th id=\"T_cc824ff0_a850_11e9_a57b_48d705e7a873level0_row3\" class=\"row_heading level0 row3\" >20-24</th>\n",
       "                        <td id=\"T_cc824ff0_a850_11e9_a57b_48d705e7a873row3_col0\" class=\"data row3 col0\" >365</td>\n",
       "                        <td id=\"T_cc824ff0_a850_11e9_a57b_48d705e7a873row3_col1\" class=\"data row3 col1\" >$3.05</td>\n",
       "                        <td id=\"T_cc824ff0_a850_11e9_a57b_48d705e7a873row3_col2\" class=\"data row3 col2\" >$1,114.06</td>\n",
       "                        <td id=\"T_cc824ff0_a850_11e9_a57b_48d705e7a873row3_col3\" class=\"data row3 col3\" >$4.32</td>\n",
       "            </tr>\n",
       "            <tr>\n",
       "                        <th id=\"T_cc824ff0_a850_11e9_a57b_48d705e7a873level0_row4\" class=\"row_heading level0 row4\" >25-29</th>\n",
       "                        <td id=\"T_cc824ff0_a850_11e9_a57b_48d705e7a873row4_col0\" class=\"data row4 col0\" >101</td>\n",
       "                        <td id=\"T_cc824ff0_a850_11e9_a57b_48d705e7a873row4_col1\" class=\"data row4 col1\" >$2.90</td>\n",
       "                        <td id=\"T_cc824ff0_a850_11e9_a57b_48d705e7a873row4_col2\" class=\"data row4 col2\" >$293.00</td>\n",
       "                        <td id=\"T_cc824ff0_a850_11e9_a57b_48d705e7a873row4_col3\" class=\"data row4 col3\" >$3.81</td>\n",
       "            </tr>\n",
       "            <tr>\n",
       "                        <th id=\"T_cc824ff0_a850_11e9_a57b_48d705e7a873level0_row5\" class=\"row_heading level0 row5\" >30-34</th>\n",
       "                        <td id=\"T_cc824ff0_a850_11e9_a57b_48d705e7a873row5_col0\" class=\"data row5 col0\" >73</td>\n",
       "                        <td id=\"T_cc824ff0_a850_11e9_a57b_48d705e7a873row5_col1\" class=\"data row5 col1\" >$2.93</td>\n",
       "                        <td id=\"T_cc824ff0_a850_11e9_a57b_48d705e7a873row5_col2\" class=\"data row5 col2\" >$214.00</td>\n",
       "                        <td id=\"T_cc824ff0_a850_11e9_a57b_48d705e7a873row5_col3\" class=\"data row5 col3\" >$4.12</td>\n",
       "            </tr>\n",
       "            <tr>\n",
       "                        <th id=\"T_cc824ff0_a850_11e9_a57b_48d705e7a873level0_row6\" class=\"row_heading level0 row6\" >35-39</th>\n",
       "                        <td id=\"T_cc824ff0_a850_11e9_a57b_48d705e7a873row6_col0\" class=\"data row6 col0\" >41</td>\n",
       "                        <td id=\"T_cc824ff0_a850_11e9_a57b_48d705e7a873row6_col1\" class=\"data row6 col1\" >$3.60</td>\n",
       "                        <td id=\"T_cc824ff0_a850_11e9_a57b_48d705e7a873row6_col2\" class=\"data row6 col2\" >$147.67</td>\n",
       "                        <td id=\"T_cc824ff0_a850_11e9_a57b_48d705e7a873row6_col3\" class=\"data row6 col3\" >$4.76</td>\n",
       "            </tr>\n",
       "            <tr>\n",
       "                        <th id=\"T_cc824ff0_a850_11e9_a57b_48d705e7a873level0_row7\" class=\"row_heading level0 row7\" >40+</th>\n",
       "                        <td id=\"T_cc824ff0_a850_11e9_a57b_48d705e7a873row7_col0\" class=\"data row7 col0\" >13</td>\n",
       "                        <td id=\"T_cc824ff0_a850_11e9_a57b_48d705e7a873row7_col1\" class=\"data row7 col1\" >$2.94</td>\n",
       "                        <td id=\"T_cc824ff0_a850_11e9_a57b_48d705e7a873row7_col2\" class=\"data row7 col2\" >$38.24</td>\n",
       "                        <td id=\"T_cc824ff0_a850_11e9_a57b_48d705e7a873row7_col3\" class=\"data row7 col3\" >$3.19</td>\n",
       "            </tr>\n",
       "    </tbody></table>"
      ],
      "text/plain": [
       "<pandas.io.formats.style.Styler at 0x11d0b0b70>"
      ]
     },
     "execution_count": 50,
     "metadata": {},
     "output_type": "execute_result"
    }
   ],
   "source": [
    "purchase_price_ave = age_group[\"Price\"].mean()\n",
    "total_purchase = age_group[\"Price\"].sum()\n",
    "purchase_by_age = age_group[\"Purchase ID\"].count()\n",
    "\n",
    "purchase_per_person_ave = total_purchase/total_age\n",
    "\n",
    "analysis_df = pd.DataFrame({\"Purchase Count\": purchase_by_age,\n",
    "                                 \"Average Purchase Price\": purchase_price_ave,\n",
    "                                 \"Total Purchase Value\":total_purchase,\n",
    "                                 \"Average Purchase Total per Person\": purchase_per_person_ave})\n",
    "\n",
    "analysis_df.style.format({\"Average Purchase Price\":\"${:,.2f}\",\n",
    "                               \"Total Purchase Value\":\"${:,.2f}\",\n",
    "                               \"Average Purchase Total per Person\":\"${:,.2f}\"})"
   ]
  },
  {
   "cell_type": "markdown",
   "metadata": {},
   "source": [
    "## Top Spenders"
   ]
  },
  {
   "cell_type": "markdown",
   "metadata": {},
   "source": [
    "* Run basic calculations to obtain the results in the table below\n",
    "\n",
    "\n",
    "* Create a summary data frame to hold the results\n",
    "\n",
    "\n",
    "* Sort the total purchase value column in descending order\n",
    "\n",
    "\n",
    "* Optional: give the displayed data cleaner formatting\n",
    "\n",
    "\n",
    "* Display a preview of the summary data frame\n",
    "\n"
   ]
  },
  {
   "cell_type": "code",
   "execution_count": 49,
   "metadata": {},
   "outputs": [
    {
     "data": {
      "text/html": [
       "<style  type=\"text/css\" >\n",
       "</style><table id=\"T_bf077968_a850_11e9_a57b_48d705e7a873\" ><thead>    <tr>        <th class=\"blank level0\" ></th>        <th class=\"col_heading level0 col0\" >Purchase Count</th>        <th class=\"col_heading level0 col1\" >Average Purchase Price</th>        <th class=\"col_heading level0 col2\" >Total Purchase Value</th>    </tr>    <tr>        <th class=\"index_name level0\" >SN</th>        <th class=\"blank\" ></th>        <th class=\"blank\" ></th>        <th class=\"blank\" ></th>    </tr></thead><tbody>\n",
       "                <tr>\n",
       "                        <th id=\"T_bf077968_a850_11e9_a57b_48d705e7a873level0_row0\" class=\"row_heading level0 row0\" >Lisosia93</th>\n",
       "                        <td id=\"T_bf077968_a850_11e9_a57b_48d705e7a873row0_col0\" class=\"data row0 col0\" >5</td>\n",
       "                        <td id=\"T_bf077968_a850_11e9_a57b_48d705e7a873row0_col1\" class=\"data row0 col1\" >$3.79</td>\n",
       "                        <td id=\"T_bf077968_a850_11e9_a57b_48d705e7a873row0_col2\" class=\"data row0 col2\" >$18.96</td>\n",
       "            </tr>\n",
       "            <tr>\n",
       "                        <th id=\"T_bf077968_a850_11e9_a57b_48d705e7a873level0_row1\" class=\"row_heading level0 row1\" >Idastidru52</th>\n",
       "                        <td id=\"T_bf077968_a850_11e9_a57b_48d705e7a873row1_col0\" class=\"data row1 col0\" >4</td>\n",
       "                        <td id=\"T_bf077968_a850_11e9_a57b_48d705e7a873row1_col1\" class=\"data row1 col1\" >$3.86</td>\n",
       "                        <td id=\"T_bf077968_a850_11e9_a57b_48d705e7a873row1_col2\" class=\"data row1 col2\" >$15.45</td>\n",
       "            </tr>\n",
       "            <tr>\n",
       "                        <th id=\"T_bf077968_a850_11e9_a57b_48d705e7a873level0_row2\" class=\"row_heading level0 row2\" >Chamjask73</th>\n",
       "                        <td id=\"T_bf077968_a850_11e9_a57b_48d705e7a873row2_col0\" class=\"data row2 col0\" >3</td>\n",
       "                        <td id=\"T_bf077968_a850_11e9_a57b_48d705e7a873row2_col1\" class=\"data row2 col1\" >$4.61</td>\n",
       "                        <td id=\"T_bf077968_a850_11e9_a57b_48d705e7a873row2_col2\" class=\"data row2 col2\" >$13.83</td>\n",
       "            </tr>\n",
       "            <tr>\n",
       "                        <th id=\"T_bf077968_a850_11e9_a57b_48d705e7a873level0_row3\" class=\"row_heading level0 row3\" >Iral74</th>\n",
       "                        <td id=\"T_bf077968_a850_11e9_a57b_48d705e7a873row3_col0\" class=\"data row3 col0\" >4</td>\n",
       "                        <td id=\"T_bf077968_a850_11e9_a57b_48d705e7a873row3_col1\" class=\"data row3 col1\" >$3.40</td>\n",
       "                        <td id=\"T_bf077968_a850_11e9_a57b_48d705e7a873row3_col2\" class=\"data row3 col2\" >$13.62</td>\n",
       "            </tr>\n",
       "            <tr>\n",
       "                        <th id=\"T_bf077968_a850_11e9_a57b_48d705e7a873level0_row4\" class=\"row_heading level0 row4\" >Iskadarya95</th>\n",
       "                        <td id=\"T_bf077968_a850_11e9_a57b_48d705e7a873row4_col0\" class=\"data row4 col0\" >3</td>\n",
       "                        <td id=\"T_bf077968_a850_11e9_a57b_48d705e7a873row4_col1\" class=\"data row4 col1\" >$4.37</td>\n",
       "                        <td id=\"T_bf077968_a850_11e9_a57b_48d705e7a873row4_col2\" class=\"data row4 col2\" >$13.10</td>\n",
       "            </tr>\n",
       "    </tbody></table>"
      ],
      "text/plain": [
       "<pandas.io.formats.style.Styler at 0x11c1f9208>"
      ]
     },
     "execution_count": 49,
     "metadata": {},
     "output_type": "execute_result"
    }
   ],
   "source": [
    "purchase_spender = purchase_data.groupby(\"SN\")[\"Purchase ID\"].count()\n",
    "avg_price_spender = purchase_data.groupby(\"SN\")[\"Price\"].mean()\n",
    "total_spender = purchase_data.groupby(\"SN\")[\"Price\"].sum()\n",
    "\n",
    "top_spenders_df = pd.DataFrame({\"Purchase Count\": purchase_spender,\n",
    "                             \"Average Purchase Price\": avg_price_spender,\n",
    "                             \"Total Purchase Value\":total_spender})\n",
    "\n",
    "top_spenders_desc_df = top_spenders_df.sort_values([\"Total Purchase Value\"], ascending=False).head()\n",
    "\n",
    "top_spenders_desc_df.style.format({\"Average Purchase Total\":\"${:,.2f}\",\n",
    "                                 \"Average Purchase Price\":\"${:,.2f}\", \n",
    "                                 \"Total Purchase Value\":\"${:,.2f}\"})"
   ]
  },
  {
   "cell_type": "markdown",
   "metadata": {},
   "source": [
    "## Most Popular Items"
   ]
  },
  {
   "cell_type": "markdown",
   "metadata": {},
   "source": [
    "* Retrieve the Item ID, Item Name, and Item Price columns\n",
    "\n",
    "\n",
    "* Group by Item ID and Item Name. Perform calculations to obtain purchase count, item price, and total purchase value\n",
    "\n",
    "\n",
    "* Create a summary data frame to hold the results\n",
    "\n",
    "\n",
    "* Sort the purchase count column in descending order\n",
    "\n",
    "\n",
    "* Optional: give the displayed data cleaner formatting\n",
    "\n",
    "\n",
    "* Display a preview of the summary data frame\n",
    "\n"
   ]
  },
  {
   "cell_type": "code",
   "execution_count": 47,
   "metadata": {},
   "outputs": [
    {
     "data": {
      "text/html": [
       "<style  type=\"text/css\" >\n",
       "</style><table id=\"T_398cb00a_a850_11e9_a57b_48d705e7a873\" ><thead>    <tr>        <th class=\"blank\" ></th>        <th class=\"blank level0\" ></th>        <th class=\"col_heading level0 col0\" >Purchase Count</th>        <th class=\"col_heading level0 col1\" >Item Price</th>        <th class=\"col_heading level0 col2\" >Total Purchase Value</th>    </tr>    <tr>        <th class=\"index_name level0\" >Item ID</th>        <th class=\"index_name level1\" >Item Name</th>        <th class=\"blank\" ></th>        <th class=\"blank\" ></th>        <th class=\"blank\" ></th>    </tr></thead><tbody>\n",
       "                <tr>\n",
       "                        <th id=\"T_398cb00a_a850_11e9_a57b_48d705e7a873level0_row0\" class=\"row_heading level0 row0\" >178</th>\n",
       "                        <th id=\"T_398cb00a_a850_11e9_a57b_48d705e7a873level1_row0\" class=\"row_heading level1 row0\" >Oathbreaker, Last Hope of the Breaking Storm</th>\n",
       "                        <td id=\"T_398cb00a_a850_11e9_a57b_48d705e7a873row0_col0\" class=\"data row0 col0\" >12</td>\n",
       "                        <td id=\"T_398cb00a_a850_11e9_a57b_48d705e7a873row0_col1\" class=\"data row0 col1\" >$4.23</td>\n",
       "                        <td id=\"T_398cb00a_a850_11e9_a57b_48d705e7a873row0_col2\" class=\"data row0 col2\" >$50.76</td>\n",
       "            </tr>\n",
       "            <tr>\n",
       "                        <th id=\"T_398cb00a_a850_11e9_a57b_48d705e7a873level0_row1\" class=\"row_heading level0 row1\" >145</th>\n",
       "                        <th id=\"T_398cb00a_a850_11e9_a57b_48d705e7a873level1_row1\" class=\"row_heading level1 row1\" >Fiery Glass Crusader</th>\n",
       "                        <td id=\"T_398cb00a_a850_11e9_a57b_48d705e7a873row1_col0\" class=\"data row1 col0\" >9</td>\n",
       "                        <td id=\"T_398cb00a_a850_11e9_a57b_48d705e7a873row1_col1\" class=\"data row1 col1\" >$4.58</td>\n",
       "                        <td id=\"T_398cb00a_a850_11e9_a57b_48d705e7a873row1_col2\" class=\"data row1 col2\" >$41.22</td>\n",
       "            </tr>\n",
       "            <tr>\n",
       "                        <th id=\"T_398cb00a_a850_11e9_a57b_48d705e7a873level0_row2\" class=\"row_heading level0 row2\" >108</th>\n",
       "                        <th id=\"T_398cb00a_a850_11e9_a57b_48d705e7a873level1_row2\" class=\"row_heading level1 row2\" >Extraction, Quickblade Of Trembling Hands</th>\n",
       "                        <td id=\"T_398cb00a_a850_11e9_a57b_48d705e7a873row2_col0\" class=\"data row2 col0\" >9</td>\n",
       "                        <td id=\"T_398cb00a_a850_11e9_a57b_48d705e7a873row2_col1\" class=\"data row2 col1\" >$3.53</td>\n",
       "                        <td id=\"T_398cb00a_a850_11e9_a57b_48d705e7a873row2_col2\" class=\"data row2 col2\" >$31.77</td>\n",
       "            </tr>\n",
       "            <tr>\n",
       "                        <th id=\"T_398cb00a_a850_11e9_a57b_48d705e7a873level0_row3\" class=\"row_heading level0 row3\" >82</th>\n",
       "                        <th id=\"T_398cb00a_a850_11e9_a57b_48d705e7a873level1_row3\" class=\"row_heading level1 row3\" >Nirvana</th>\n",
       "                        <td id=\"T_398cb00a_a850_11e9_a57b_48d705e7a873row3_col0\" class=\"data row3 col0\" >9</td>\n",
       "                        <td id=\"T_398cb00a_a850_11e9_a57b_48d705e7a873row3_col1\" class=\"data row3 col1\" >$4.90</td>\n",
       "                        <td id=\"T_398cb00a_a850_11e9_a57b_48d705e7a873row3_col2\" class=\"data row3 col2\" >$44.10</td>\n",
       "            </tr>\n",
       "            <tr>\n",
       "                        <th id=\"T_398cb00a_a850_11e9_a57b_48d705e7a873level0_row4\" class=\"row_heading level0 row4\" >19</th>\n",
       "                        <th id=\"T_398cb00a_a850_11e9_a57b_48d705e7a873level1_row4\" class=\"row_heading level1 row4\" >Pursuit, Cudgel of Necromancy</th>\n",
       "                        <td id=\"T_398cb00a_a850_11e9_a57b_48d705e7a873row4_col0\" class=\"data row4 col0\" >8</td>\n",
       "                        <td id=\"T_398cb00a_a850_11e9_a57b_48d705e7a873row4_col1\" class=\"data row4 col1\" >$1.02</td>\n",
       "                        <td id=\"T_398cb00a_a850_11e9_a57b_48d705e7a873row4_col2\" class=\"data row4 col2\" >$8.16</td>\n",
       "            </tr>\n",
       "    </tbody></table>"
      ],
      "text/plain": [
       "<pandas.io.formats.style.Styler at 0x11d032f28>"
      ]
     },
     "execution_count": 47,
     "metadata": {},
     "output_type": "execute_result"
    }
   ],
   "source": [
    "items_df = purchase_data[[\"Item ID\", \"Item Name\", \"Price\"]]\n",
    "\n",
    "item_group = items_df.groupby([\"Item ID\",\"Item Name\"])\n",
    "\n",
    "values_df = pd.DataFrame({\"Purchase Count\": item_group[\"Price\"].count(), \n",
    "                                   \"Item Price\": purchase_val/item_group[\"Price\"].count(),\n",
    "                                   \"Total Purchase Value\":(item_group[\"Price\"].sum())})\n",
    "\n",
    "values_desc_df = values_df.sort_values([\"Purchase Count\"], ascending=False).head()\n",
    "\n",
    "\n",
    "values_desc_df.style.format({\"Item Price\":\"${:,.2f}\",\n",
    "                                \"Total Purchase Value\":\"${:,.2f}\"})"
   ]
  },
  {
   "cell_type": "markdown",
   "metadata": {},
   "source": [
    "## Most Profitable Items"
   ]
  },
  {
   "cell_type": "markdown",
   "metadata": {},
   "source": [
    "* Sort the above table by total purchase value in descending order\n",
    "\n",
    "\n",
    "* Optional: give the displayed data cleaner formatting\n",
    "\n",
    "\n",
    "* Display a preview of the data frame\n",
    "\n"
   ]
  },
  {
   "cell_type": "code",
   "execution_count": 48,
   "metadata": {
    "scrolled": true
   },
   "outputs": [
    {
     "data": {
      "text/html": [
       "<style  type=\"text/css\" >\n",
       "</style><table id=\"T_7f07d7f4_a850_11e9_a57b_48d705e7a873\" ><thead>    <tr>        <th class=\"blank\" ></th>        <th class=\"blank level0\" ></th>        <th class=\"col_heading level0 col0\" >Purchase Count</th>        <th class=\"col_heading level0 col1\" >Item Price</th>        <th class=\"col_heading level0 col2\" >Total Purchase Value</th>    </tr>    <tr>        <th class=\"index_name level0\" >Item ID</th>        <th class=\"index_name level1\" >Item Name</th>        <th class=\"blank\" ></th>        <th class=\"blank\" ></th>        <th class=\"blank\" ></th>    </tr></thead><tbody>\n",
       "                <tr>\n",
       "                        <th id=\"T_7f07d7f4_a850_11e9_a57b_48d705e7a873level0_row0\" class=\"row_heading level0 row0\" >178</th>\n",
       "                        <th id=\"T_7f07d7f4_a850_11e9_a57b_48d705e7a873level1_row0\" class=\"row_heading level1 row0\" >Oathbreaker, Last Hope of the Breaking Storm</th>\n",
       "                        <td id=\"T_7f07d7f4_a850_11e9_a57b_48d705e7a873row0_col0\" class=\"data row0 col0\" >12</td>\n",
       "                        <td id=\"T_7f07d7f4_a850_11e9_a57b_48d705e7a873row0_col1\" class=\"data row0 col1\" >$4.23</td>\n",
       "                        <td id=\"T_7f07d7f4_a850_11e9_a57b_48d705e7a873row0_col2\" class=\"data row0 col2\" >$50.76</td>\n",
       "            </tr>\n",
       "            <tr>\n",
       "                        <th id=\"T_7f07d7f4_a850_11e9_a57b_48d705e7a873level0_row1\" class=\"row_heading level0 row1\" >82</th>\n",
       "                        <th id=\"T_7f07d7f4_a850_11e9_a57b_48d705e7a873level1_row1\" class=\"row_heading level1 row1\" >Nirvana</th>\n",
       "                        <td id=\"T_7f07d7f4_a850_11e9_a57b_48d705e7a873row1_col0\" class=\"data row1 col0\" >9</td>\n",
       "                        <td id=\"T_7f07d7f4_a850_11e9_a57b_48d705e7a873row1_col1\" class=\"data row1 col1\" >$4.90</td>\n",
       "                        <td id=\"T_7f07d7f4_a850_11e9_a57b_48d705e7a873row1_col2\" class=\"data row1 col2\" >$44.10</td>\n",
       "            </tr>\n",
       "            <tr>\n",
       "                        <th id=\"T_7f07d7f4_a850_11e9_a57b_48d705e7a873level0_row2\" class=\"row_heading level0 row2\" >145</th>\n",
       "                        <th id=\"T_7f07d7f4_a850_11e9_a57b_48d705e7a873level1_row2\" class=\"row_heading level1 row2\" >Fiery Glass Crusader</th>\n",
       "                        <td id=\"T_7f07d7f4_a850_11e9_a57b_48d705e7a873row2_col0\" class=\"data row2 col0\" >9</td>\n",
       "                        <td id=\"T_7f07d7f4_a850_11e9_a57b_48d705e7a873row2_col1\" class=\"data row2 col1\" >$4.58</td>\n",
       "                        <td id=\"T_7f07d7f4_a850_11e9_a57b_48d705e7a873row2_col2\" class=\"data row2 col2\" >$41.22</td>\n",
       "            </tr>\n",
       "            <tr>\n",
       "                        <th id=\"T_7f07d7f4_a850_11e9_a57b_48d705e7a873level0_row3\" class=\"row_heading level0 row3\" >92</th>\n",
       "                        <th id=\"T_7f07d7f4_a850_11e9_a57b_48d705e7a873level1_row3\" class=\"row_heading level1 row3\" >Final Critic</th>\n",
       "                        <td id=\"T_7f07d7f4_a850_11e9_a57b_48d705e7a873row3_col0\" class=\"data row3 col0\" >8</td>\n",
       "                        <td id=\"T_7f07d7f4_a850_11e9_a57b_48d705e7a873row3_col1\" class=\"data row3 col1\" >$4.88</td>\n",
       "                        <td id=\"T_7f07d7f4_a850_11e9_a57b_48d705e7a873row3_col2\" class=\"data row3 col2\" >$39.04</td>\n",
       "            </tr>\n",
       "            <tr>\n",
       "                        <th id=\"T_7f07d7f4_a850_11e9_a57b_48d705e7a873level0_row4\" class=\"row_heading level0 row4\" >103</th>\n",
       "                        <th id=\"T_7f07d7f4_a850_11e9_a57b_48d705e7a873level1_row4\" class=\"row_heading level1 row4\" >Singed Scalpel</th>\n",
       "                        <td id=\"T_7f07d7f4_a850_11e9_a57b_48d705e7a873row4_col0\" class=\"data row4 col0\" >8</td>\n",
       "                        <td id=\"T_7f07d7f4_a850_11e9_a57b_48d705e7a873row4_col1\" class=\"data row4 col1\" >$4.35</td>\n",
       "                        <td id=\"T_7f07d7f4_a850_11e9_a57b_48d705e7a873row4_col2\" class=\"data row4 col2\" >$34.80</td>\n",
       "            </tr>\n",
       "    </tbody></table>"
      ],
      "text/plain": [
       "<pandas.io.formats.style.Styler at 0x11d0d7e80>"
      ]
     },
     "execution_count": 48,
     "metadata": {},
     "output_type": "execute_result"
    }
   ],
   "source": [
    "#Sort the above table by total purchase value in descending order\n",
    "values_val_desc_df = values_df.sort_values([\"Total Purchase Value\"],\n",
    "                                                   ascending=False)\n",
    "values_val_desc_df .style.format({\"Item Price\":\"${:,.2f}\",\n",
    "                                \"Total Purchase Value\":\"${:,.2f}\"})"
   ]
  },
  {
   "cell_type": "code",
   "execution_count": null,
   "metadata": {},
   "outputs": [],
   "source": []
  }
 ],
 "metadata": {
  "anaconda-cloud": {},
  "kernel_info": {
   "name": "python3"
  },
  "kernelspec": {
   "display_name": "Python 3",
   "language": "python",
   "name": "python3"
  },
  "language_info": {
   "codemirror_mode": {
    "name": "ipython",
    "version": 3
   },
   "file_extension": ".py",
   "mimetype": "text/x-python",
   "name": "python",
   "nbconvert_exporter": "python",
   "pygments_lexer": "ipython3",
   "version": "3.7.3"
  },
  "nteract": {
   "version": "0.2.0"
  }
 },
 "nbformat": 4,
 "nbformat_minor": 2
}
